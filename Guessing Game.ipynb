{
 "cells": [
  {
   "cell_type": "markdown",
   "id": "ac496be5",
   "metadata": {},
   "source": [
    "# My Jupyter Notebook on IBM Watson Studio"
   ]
  },
  {
   "cell_type": "markdown",
   "id": "6e6e0a7d",
   "metadata": {},
   "source": [
    "## My name is Rashid\n",
    "## My end goal is to be a Data Scientist"
   ]
  },
  {
   "cell_type": "markdown",
   "id": "09c8f30a",
   "metadata": {},
   "source": [
    "### _I am interested in data science because , I am very curious about making decision through analyzing Data._\n"
   ]
  },
  {
   "cell_type": "markdown",
   "id": "23e77f94",
   "metadata": {},
   "source": [
    "### This is a number guessing game . After running this code an input box will appear , and you need to write \n",
    "\n",
    "### number between 1 and 100 . You will get instruction , to guess higher or lower until you match the number."
   ]
  },
  {
   "cell_type": "code",
   "execution_count": 1,
   "id": "96a13290",
   "metadata": {},
   "outputs": [
    {
     "name": "stdout",
     "output_type": "stream",
     "text": [
      "Guess a number between 1 and 100 :45\n",
      "Guess higher\n",
      "Guess again: 56\n",
      "Guess higher\n",
      "Guess again: 98\n",
      "Guess lower\n",
      "Guess again: 90\n",
      "Guess lower\n",
      "Guess again: 70\n",
      "Guess higher\n",
      "Guess again: 80\n",
      "Guess lower\n",
      "Guess again: 75\n",
      "Guess lower\n",
      "Guess again: 71\n",
      "Guess higher\n",
      "Guess again: 73\n",
      "Yes! you got it!\n"
     ]
    }
   ],
   "source": [
    "from IPython.display import display,Math\n",
    "from numpy import random\n",
    "def guess_Number(a,b):\n",
    "    random_number = random.randint(a,b+1)\n",
    "    user_guess = int(input('Guess a number between {} and {} :'.format(a,b)))\n",
    "    \n",
    "    while user_guess != random_number:\n",
    "        if user_guess>random_number:\n",
    "            print('Guess lower')\n",
    "        elif user_guess<random_number:\n",
    "            print('Guess higher')\n",
    "        else:\n",
    "            print('Guess in range')\n",
    "        user_guess=int(input('Guess again: '))\n",
    "    print('Yes! you got it!')\n",
    "guess_Number(1,100)"
   ]
  },
  {
   "cell_type": "markdown",
   "id": "cb15ac60",
   "metadata": {},
   "source": [
    "_______________________________________________________________________________________________________________________________"
   ]
  },
  {
   "cell_type": "markdown",
   "id": "e9b236c5",
   "metadata": {},
   "source": [
    "<ul>\n",
    "  <li>First item</li>\n",
    "  <li>Second item</li>\n",
    "  <li>Third item</li>\n",
    "  <li>Fourth item</li>\n",
    "</ul>"
   ]
  },
  {
   "cell_type": "markdown",
   "id": "5b14c738",
   "metadata": {},
   "source": [
    "<ol>\n",
    "  <li>First item</li>\n",
    "  <li>Second item</li>\n",
    "  <li>Third item</li>\n",
    "  <li>Fourth item</li>\n",
    "</ol>"
   ]
  },
  {
   "cell_type": "markdown",
   "id": "f63e6f74",
   "metadata": {},
   "source": [
    "<table style=\"width:100%\">\n",
    "  <tr>\n",
    "    <td>Emil</td>\n",
    "    <td>Tobias</td>\n",
    "    <td>Linus</td>\n",
    "  </tr>\n",
    "  <tr>\n",
    "    <td>16</td>\n",
    "    <td>14</td>\n",
    "    <td>10</td>\n",
    "  </tr>\n",
    "</table>"
   ]
  },
  {
   "cell_type": "markdown",
   "id": "3515ee5d",
   "metadata": {},
   "source": [
    "My favorite search engine is [Duck Duck Go](https://duckduckgo.com)."
   ]
  },
  {
   "cell_type": "markdown",
   "id": "3c62927b",
   "metadata": {},
   "source": [
    "![A great scenery](https://media.istockphoto.com/photos/brecon-beacons-landscape-picture-id1308867983?b=1&k=20&m=1308867983&s=170667a&w=0&h=leXvVFQe-WIkLrCre4ra77ooXYVZL3kqlbOAehER1Ls=)"
   ]
  },
  {
   "cell_type": "markdown",
   "id": "9ef62d25",
   "metadata": {},
   "source": [
    "> I climbed up the hill."
   ]
  },
  {
   "cell_type": "markdown",
   "id": "b24b6e0b",
   "metadata": {},
   "source": [
    "<strike>I wanted it.</strike> But I gave up."
   ]
  },
  {
   "cell_type": "code",
   "execution_count": null,
   "id": "4f610175",
   "metadata": {},
   "outputs": [],
   "source": []
  }
 ],
 "metadata": {
  "kernelspec": {
   "display_name": "Python 3 (ipykernel)",
   "language": "python",
   "name": "python3"
  },
  "language_info": {
   "codemirror_mode": {
    "name": "ipython",
    "version": 3
   },
   "file_extension": ".py",
   "mimetype": "text/x-python",
   "name": "python",
   "nbconvert_exporter": "python",
   "pygments_lexer": "ipython3",
   "version": "3.9.7"
  }
 },
 "nbformat": 4,
 "nbformat_minor": 5
}
